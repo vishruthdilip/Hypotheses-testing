{
 "cells": [
  {
   "cell_type": "code",
   "execution_count": 184,
   "id": "dimensional-whale",
   "metadata": {},
   "outputs": [],
   "source": [
    "import pandas as pd\n",
    "import numpy as np\n",
    "import matplotlib.pyplot as plt\n",
    "import seaborn as sns\n",
    "import plotly.express as px\n",
    "%matplotlib inline"
   ]
  },
  {
   "cell_type": "code",
   "execution_count": 185,
   "id": "future-nebraska",
   "metadata": {},
   "outputs": [
    {
     "data": {
      "text/html": [
       "<div>\n",
       "<style scoped>\n",
       "    .dataframe tbody tr th:only-of-type {\n",
       "        vertical-align: middle;\n",
       "    }\n",
       "\n",
       "    .dataframe tbody tr th {\n",
       "        vertical-align: top;\n",
       "    }\n",
       "\n",
       "    .dataframe thead th {\n",
       "        text-align: right;\n",
       "    }\n",
       "</style>\n",
       "<table border=\"1\" class=\"dataframe\">\n",
       "  <thead>\n",
       "    <tr style=\"text-align: right;\">\n",
       "      <th></th>\n",
       "      <th>gender</th>\n",
       "      <th>race/ethnicity</th>\n",
       "      <th>parental level of education</th>\n",
       "      <th>lunch</th>\n",
       "      <th>test preparation course</th>\n",
       "      <th>math score</th>\n",
       "      <th>reading score</th>\n",
       "      <th>writing score</th>\n",
       "    </tr>\n",
       "  </thead>\n",
       "  <tbody>\n",
       "    <tr>\n",
       "      <th>0</th>\n",
       "      <td>female</td>\n",
       "      <td>group B</td>\n",
       "      <td>bachelor's degree</td>\n",
       "      <td>standard</td>\n",
       "      <td>none</td>\n",
       "      <td>72</td>\n",
       "      <td>72</td>\n",
       "      <td>74</td>\n",
       "    </tr>\n",
       "    <tr>\n",
       "      <th>1</th>\n",
       "      <td>female</td>\n",
       "      <td>group C</td>\n",
       "      <td>some college</td>\n",
       "      <td>standard</td>\n",
       "      <td>completed</td>\n",
       "      <td>69</td>\n",
       "      <td>90</td>\n",
       "      <td>88</td>\n",
       "    </tr>\n",
       "    <tr>\n",
       "      <th>2</th>\n",
       "      <td>female</td>\n",
       "      <td>group B</td>\n",
       "      <td>master's degree</td>\n",
       "      <td>standard</td>\n",
       "      <td>none</td>\n",
       "      <td>90</td>\n",
       "      <td>95</td>\n",
       "      <td>93</td>\n",
       "    </tr>\n",
       "    <tr>\n",
       "      <th>3</th>\n",
       "      <td>male</td>\n",
       "      <td>group A</td>\n",
       "      <td>associate's degree</td>\n",
       "      <td>free/reduced</td>\n",
       "      <td>none</td>\n",
       "      <td>47</td>\n",
       "      <td>57</td>\n",
       "      <td>44</td>\n",
       "    </tr>\n",
       "    <tr>\n",
       "      <th>4</th>\n",
       "      <td>male</td>\n",
       "      <td>group C</td>\n",
       "      <td>some college</td>\n",
       "      <td>standard</td>\n",
       "      <td>none</td>\n",
       "      <td>76</td>\n",
       "      <td>78</td>\n",
       "      <td>75</td>\n",
       "    </tr>\n",
       "  </tbody>\n",
       "</table>\n",
       "</div>"
      ],
      "text/plain": [
       "   gender race/ethnicity parental level of education         lunch  \\\n",
       "0  female        group B           bachelor's degree      standard   \n",
       "1  female        group C                some college      standard   \n",
       "2  female        group B             master's degree      standard   \n",
       "3    male        group A          associate's degree  free/reduced   \n",
       "4    male        group C                some college      standard   \n",
       "\n",
       "  test preparation course  math score  reading score  writing score  \n",
       "0                    none          72             72             74  \n",
       "1               completed          69             90             88  \n",
       "2                    none          90             95             93  \n",
       "3                    none          47             57             44  \n",
       "4                    none          76             78             75  "
      ]
     },
     "execution_count": 185,
     "metadata": {},
     "output_type": "execute_result"
    }
   ],
   "source": [
    "df = pd.read_csv('StudentsPerformance.csv')\n",
    "df.head()"
   ]
  },
  {
   "cell_type": "code",
   "execution_count": 186,
   "id": "discrete-background",
   "metadata": {},
   "outputs": [
    {
     "name": "stdout",
     "output_type": "stream",
     "text": [
      "<class 'pandas.core.frame.DataFrame'>\n",
      "RangeIndex: 1000 entries, 0 to 999\n",
      "Data columns (total 8 columns):\n",
      " #   Column                       Non-Null Count  Dtype \n",
      "---  ------                       --------------  ----- \n",
      " 0   gender                       1000 non-null   object\n",
      " 1   race/ethnicity               1000 non-null   object\n",
      " 2   parental level of education  1000 non-null   object\n",
      " 3   lunch                        1000 non-null   object\n",
      " 4   test preparation course      1000 non-null   object\n",
      " 5   math score                   1000 non-null   int64 \n",
      " 6   reading score                1000 non-null   int64 \n",
      " 7   writing score                1000 non-null   int64 \n",
      "dtypes: int64(3), object(5)\n",
      "memory usage: 62.6+ KB\n"
     ]
    }
   ],
   "source": [
    "df.info() #looking if there are any null values"
   ]
  },
  {
   "cell_type": "markdown",
   "id": "artificial-shelter",
   "metadata": {},
   "source": [
    "No null values exist in our above dataset. "
   ]
  },
  {
   "cell_type": "markdown",
   "id": "colored-origin",
   "metadata": {},
   "source": [
    "### Hypothesis formulation and testing \n",
    "\n",
    "Null hypothesis (H0), and Alternate Hypothesis (H1)\n",
    "\n",
    ">Type I error - Rejection of a true hypothesis, also called false positive.                                                       \n",
    "\n",
    ">Type II error - Non rejection of a false hypothesis, also called false negative.\n",
    "\n",
    "Significance Level:\n",
    "The signiﬁcance level selected for a test should reﬂect the consequences associated with Type 1 and Type 2 Errors.\n",
    "The standard significance level is 0.05 or 5%\n",
    "\n",
    "When the p value associated with the test statistic is less than 0.05, then we reject the null hypothesis."
   ]
  },
  {
   "cell_type": "markdown",
   "id": "innocent-pitch",
   "metadata": {},
   "source": [
    "###### Different types of test\n",
    " •Chi square test - Used to determine if two categorical variables have any correlation between them. Useful in feature selection.\n",
    "\n",
    " •T test - A t-test is a type of inferential statistic used to determine if there is a significant difference between the means of two groups, which may be related in certain features.\n",
    "\n",
    " •Pearson correlation coefficient - Direction and strength of the relationship between two variables\n",
    "\n",
    " •Point biserial correlation - It is used to measure the relationship between a binary variable, x, and a continuous variable, y. Like other correlation coefficients, this one varies between -1 and +1 with 0 implying no correlation. Correlations of -1 or +1 imply a determinative relationship."
   ]
  },
  {
   "cell_type": "markdown",
   "id": "hybrid-sandwich",
   "metadata": {},
   "source": [
    "##### Hypothesis 1: \n",
    "\n",
    ">H0 - The mean of the math, reading and writing scores are not different (the null hypothesis is always a stament of no difference)\n",
    "\n",
    ">H1 - The mean of the math, reading and writing scores are all different (the alternate hypothesis always contradicts the null hypothesis)\n",
    "    \n",
    "The 1- way ANOVA (Analysis of variance) test is used in cases where we need to compare the means of more than 2 groups.  \n"
   ]
  },
  {
   "cell_type": "code",
   "execution_count": 187,
   "id": "swedish-doctrine",
   "metadata": {},
   "outputs": [
    {
     "name": "stderr",
     "output_type": "stream",
     "text": [
      "c:\\users\\vishruth\\appdata\\local\\programs\\python\\python37\\lib\\site-packages\\seaborn\\distributions.py:2557: FutureWarning: `distplot` is a deprecated function and will be removed in a future version. Please adapt your code to use either `displot` (a figure-level function with similar flexibility) or `histplot` (an axes-level function for histograms).\n",
      "  warnings.warn(msg, FutureWarning)\n",
      "c:\\users\\vishruth\\appdata\\local\\programs\\python\\python37\\lib\\site-packages\\seaborn\\distributions.py:2557: FutureWarning: `distplot` is a deprecated function and will be removed in a future version. Please adapt your code to use either `displot` (a figure-level function with similar flexibility) or `histplot` (an axes-level function for histograms).\n",
      "  warnings.warn(msg, FutureWarning)\n",
      "c:\\users\\vishruth\\appdata\\local\\programs\\python\\python37\\lib\\site-packages\\seaborn\\distributions.py:2557: FutureWarning: `distplot` is a deprecated function and will be removed in a future version. Please adapt your code to use either `displot` (a figure-level function with similar flexibility) or `histplot` (an axes-level function for histograms).\n",
      "  warnings.warn(msg, FutureWarning)\n"
     ]
    },
    {
     "data": {
      "text/plain": [
       "<AxesSubplot:xlabel='writing score', ylabel='Density'>"
      ]
     },
     "execution_count": 187,
     "metadata": {},
     "output_type": "execute_result"
    },
    {
     "data": {
      "image/png": "[encoded data removed]",
      "text/plain": [
       "<Figure size 432x288 with 1 Axes>"
      ]
     },
     "metadata": {
      "needs_background": "light"
     },
     "output_type": "display_data"
    }
   ],
   "source": [
    "sns.distplot(df['math score'], hist = True)\n",
    "sns.distplot(df['reading score'], hist = True)\n",
    "sns.distplot(df['writing score'], hist = True)\n"
   ]
  },
  {
   "cell_type": "markdown",
   "id": "brave-behavior",
   "metadata": {},
   "source": [
    "The one-way ANOVA tests the null hypothesis that two or more groups have the same population mean. The test is applied to samples from two or more groups, possibly with differing sizes."
   ]
  },
  {
   "cell_type": "code",
   "execution_count": 188,
   "id": "corrected-python",
   "metadata": {},
   "outputs": [
    {
     "data": {
      "text/plain": [
       "F_onewayResult(statistic=10.824191628378626, pvalue=2.0701893192229333e-05)"
      ]
     },
     "execution_count": 188,
     "metadata": {},
     "output_type": "execute_result"
    }
   ],
   "source": [
    "import scipy.stats as sp\n",
    "sp.f_oneway(df['math score'], df['reading score'], df['writing score'])"
   ]
  },
  {
   "cell_type": "code",
   "execution_count": 189,
   "id": "fuzzy-netscape",
   "metadata": {},
   "outputs": [
    {
     "data": {
      "text/plain": [
       "2.998728735099001"
      ]
     },
     "execution_count": 189,
     "metadata": {},
     "output_type": "execute_result"
    }
   ],
   "source": [
    "df_between = 2\n",
    "df_within = 3000 - 3\n",
    "sp.f.ppf(0.95, df_between, df_within)"
   ]
  },
  {
   "cell_type": "code",
   "execution_count": 190,
   "id": "streaming-functionality",
   "metadata": {},
   "outputs": [
    {
     "data": {
      "image/png": "[encoded data removed]",
      "text/plain": [
       "<Figure size 432x288 with 1 Axes>"
      ]
     },
     "metadata": {
      "needs_background": "light"
     },
     "output_type": "display_data"
    }
   ],
   "source": [
    "import matplotlib.pyplot as plt\n",
    "from scipy.stats import f \n",
    "fig, ax = plt.subplots(1,1) \n",
    "dfn, dfd = 2, 2997 #df_between, df_within\n",
    "x = np.linspace(f.ppf(0.01, dfn, dfd), f.ppf(0.99, dfn, dfd), 100)\n",
    "ax.plot(x, f.pdf(x, dfn, dfd), 'r-', lw=5, alpha=0.9, label = \"f pdf\")\n",
    "plt.axvline(x=f.ppf(0.95, df_between, df_within), label='Critical value for alpha =0.05', color='g')\n",
    "#plt.axvline(x=2.9987, label='Critical value for alpha =0.1', color='g' )\n",
    "plt.axvline(x=10.82, label='F score' )\n",
    "plt.legend();\n",
    "\n"
   ]
  },
  {
   "cell_type": "markdown",
   "id": "continued-scholarship",
   "metadata": {},
   "source": [
    "Seeing as the test statisitc value of 10.82 is beyond the critical value of 2.99 and also the p value is below the agreed upon significance value of 0.05, we can reject the null hypothesis and therefore accept the alternate hypothesis H1.\n",
    "\n",
    "The mean of the three score i.e math, reading and writing are all different. "
   ]
  },
  {
   "cell_type": "markdown",
   "id": "administrative-hypothesis",
   "metadata": {},
   "source": [
    "##### Hypothesis 2\n",
    "\n",
    ">H0 - There is no relation between the gender of a student and their academic performance. \n",
    "\n",
    ">H1 - There is a relation between the gender of a student and their academic performance. \n",
    "\n",
    "Chi-squared test for independence is used.\n",
    "The chi square test is used when we have two categoraical variables and we want to check if there is an association between the two variables. \n",
    "\n",
    "In our case below, the overall performance is not a categorical variable, but instead a continuos variable. We can convert this into categories based on a threshold. \n",
    "Let us consider score above 50 as goodm adn less than 50 as bad.\n"
   ]
  },
  {
   "cell_type": "code",
   "execution_count": 191,
   "id": "warming-infrastructure",
   "metadata": {},
   "outputs": [
    {
     "data": {
      "text/html": [
       "<div>\n",
       "<style scoped>\n",
       "    .dataframe tbody tr th:only-of-type {\n",
       "        vertical-align: middle;\n",
       "    }\n",
       "\n",
       "    .dataframe tbody tr th {\n",
       "        vertical-align: top;\n",
       "    }\n",
       "\n",
       "    .dataframe thead th {\n",
       "        text-align: right;\n",
       "    }\n",
       "</style>\n",
       "<table border=\"1\" class=\"dataframe\">\n",
       "  <thead>\n",
       "    <tr style=\"text-align: right;\">\n",
       "      <th></th>\n",
       "      <th>gender</th>\n",
       "      <th>race/ethnicity</th>\n",
       "      <th>parental level of education</th>\n",
       "      <th>lunch</th>\n",
       "      <th>test preparation course</th>\n",
       "      <th>math score</th>\n",
       "      <th>reading score</th>\n",
       "      <th>writing score</th>\n",
       "      <th>overall_performance</th>\n",
       "      <th>grade</th>\n",
       "    </tr>\n",
       "  </thead>\n",
       "  <tbody>\n",
       "    <tr>\n",
       "      <th>14</th>\n",
       "      <td>female</td>\n",
       "      <td>group A</td>\n",
       "      <td>master's degree</td>\n",
       "      <td>standard</td>\n",
       "      <td>none</td>\n",
       "      <td>50</td>\n",
       "      <td>53</td>\n",
       "      <td>58</td>\n",
       "      <td>53.666667</td>\n",
       "      <td>good</td>\n",
       "    </tr>\n",
       "    <tr>\n",
       "      <th>481</th>\n",
       "      <td>female</td>\n",
       "      <td>group D</td>\n",
       "      <td>associate's degree</td>\n",
       "      <td>free/reduced</td>\n",
       "      <td>none</td>\n",
       "      <td>52</td>\n",
       "      <td>59</td>\n",
       "      <td>56</td>\n",
       "      <td>55.666667</td>\n",
       "      <td>good</td>\n",
       "    </tr>\n",
       "    <tr>\n",
       "      <th>136</th>\n",
       "      <td>male</td>\n",
       "      <td>group B</td>\n",
       "      <td>some high school</td>\n",
       "      <td>standard</td>\n",
       "      <td>completed</td>\n",
       "      <td>51</td>\n",
       "      <td>54</td>\n",
       "      <td>41</td>\n",
       "      <td>48.666667</td>\n",
       "      <td>good</td>\n",
       "    </tr>\n",
       "    <tr>\n",
       "      <th>963</th>\n",
       "      <td>female</td>\n",
       "      <td>group C</td>\n",
       "      <td>some high school</td>\n",
       "      <td>free/reduced</td>\n",
       "      <td>completed</td>\n",
       "      <td>65</td>\n",
       "      <td>76</td>\n",
       "      <td>75</td>\n",
       "      <td>72.000000</td>\n",
       "      <td>good</td>\n",
       "    </tr>\n",
       "    <tr>\n",
       "      <th>252</th>\n",
       "      <td>female</td>\n",
       "      <td>group B</td>\n",
       "      <td>some high school</td>\n",
       "      <td>standard</td>\n",
       "      <td>completed</td>\n",
       "      <td>60</td>\n",
       "      <td>70</td>\n",
       "      <td>70</td>\n",
       "      <td>66.666667</td>\n",
       "      <td>good</td>\n",
       "    </tr>\n",
       "    <tr>\n",
       "      <th>316</th>\n",
       "      <td>female</td>\n",
       "      <td>group D</td>\n",
       "      <td>master's degree</td>\n",
       "      <td>standard</td>\n",
       "      <td>completed</td>\n",
       "      <td>77</td>\n",
       "      <td>82</td>\n",
       "      <td>91</td>\n",
       "      <td>83.333333</td>\n",
       "      <td>good</td>\n",
       "    </tr>\n",
       "    <tr>\n",
       "      <th>589</th>\n",
       "      <td>female</td>\n",
       "      <td>group A</td>\n",
       "      <td>some high school</td>\n",
       "      <td>standard</td>\n",
       "      <td>none</td>\n",
       "      <td>48</td>\n",
       "      <td>66</td>\n",
       "      <td>65</td>\n",
       "      <td>59.666667</td>\n",
       "      <td>good</td>\n",
       "    </tr>\n",
       "    <tr>\n",
       "      <th>570</th>\n",
       "      <td>male</td>\n",
       "      <td>group B</td>\n",
       "      <td>some college</td>\n",
       "      <td>standard</td>\n",
       "      <td>completed</td>\n",
       "      <td>71</td>\n",
       "      <td>75</td>\n",
       "      <td>70</td>\n",
       "      <td>72.000000</td>\n",
       "      <td>good</td>\n",
       "    </tr>\n",
       "    <tr>\n",
       "      <th>156</th>\n",
       "      <td>female</td>\n",
       "      <td>group E</td>\n",
       "      <td>high school</td>\n",
       "      <td>free/reduced</td>\n",
       "      <td>completed</td>\n",
       "      <td>66</td>\n",
       "      <td>74</td>\n",
       "      <td>78</td>\n",
       "      <td>72.666667</td>\n",
       "      <td>good</td>\n",
       "    </tr>\n",
       "    <tr>\n",
       "      <th>128</th>\n",
       "      <td>male</td>\n",
       "      <td>group D</td>\n",
       "      <td>master's degree</td>\n",
       "      <td>standard</td>\n",
       "      <td>none</td>\n",
       "      <td>82</td>\n",
       "      <td>82</td>\n",
       "      <td>74</td>\n",
       "      <td>79.333333</td>\n",
       "      <td>good</td>\n",
       "    </tr>\n",
       "  </tbody>\n",
       "</table>\n",
       "</div>"
      ],
      "text/plain": [
       "     gender race/ethnicity parental level of education         lunch  \\\n",
       "14   female        group A             master's degree      standard   \n",
       "481  female        group D          associate's degree  free/reduced   \n",
       "136    male        group B            some high school      standard   \n",
       "963  female        group C            some high school  free/reduced   \n",
       "252  female        group B            some high school      standard   \n",
       "316  female        group D             master's degree      standard   \n",
       "589  female        group A            some high school      standard   \n",
       "570    male        group B                some college      standard   \n",
       "156  female        group E                 high school  free/reduced   \n",
       "128    male        group D             master's degree      standard   \n",
       "\n",
       "    test preparation course  math score  reading score  writing score  \\\n",
       "14                     none          50             53             58   \n",
       "481                    none          52             59             56   \n",
       "136               completed          51             54             41   \n",
       "963               completed          65             76             75   \n",
       "252               completed          60             70             70   \n",
       "316               completed          77             82             91   \n",
       "589                    none          48             66             65   \n",
       "570               completed          71             75             70   \n",
       "156               completed          66             74             78   \n",
       "128                    none          82             82             74   \n",
       "\n",
       "     overall_performance grade  \n",
       "14             53.666667  good  \n",
       "481            55.666667  good  \n",
       "136            48.666667  good  \n",
       "963            72.000000  good  \n",
       "252            66.666667  good  \n",
       "316            83.333333  good  \n",
       "589            59.666667  good  \n",
       "570            72.000000  good  \n",
       "156            72.666667  good  \n",
       "128            79.333333  good  "
      ]
     },
     "execution_count": 191,
     "metadata": {},
     "output_type": "execute_result"
    }
   ],
   "source": [
    "df['overall_performance'] = (df['math score'] + df['reading score'] + df['writing score'])/3\n",
    "df_copy = df.copy()\n",
    "grade = []\n",
    "overall_performance = df['overall_performance']\n",
    "for i in overall_performance :\n",
    "    if i > 40 :\n",
    "        grade.append('good')\n",
    "    else :\n",
    "        grade.append('bad')\n",
    "df_copy['grade'] = grade\n",
    "df_copy.sample(10)"
   ]
  },
  {
   "cell_type": "code",
   "execution_count": 192,
   "id": "quality-facility",
   "metadata": {},
   "outputs": [
    {
     "data": {
      "text/html": [
       "<div>\n",
       "<style scoped>\n",
       "    .dataframe tbody tr th:only-of-type {\n",
       "        vertical-align: middle;\n",
       "    }\n",
       "\n",
       "    .dataframe tbody tr th {\n",
       "        vertical-align: top;\n",
       "    }\n",
       "\n",
       "    .dataframe thead th {\n",
       "        text-align: right;\n",
       "    }\n",
       "</style>\n",
       "<table border=\"1\" class=\"dataframe\">\n",
       "  <thead>\n",
       "    <tr style=\"text-align: right;\">\n",
       "      <th>grade</th>\n",
       "      <th>bad</th>\n",
       "      <th>good</th>\n",
       "    </tr>\n",
       "    <tr>\n",
       "      <th>gender</th>\n",
       "      <th></th>\n",
       "      <th></th>\n",
       "    </tr>\n",
       "  </thead>\n",
       "  <tbody>\n",
       "    <tr>\n",
       "      <th>female</th>\n",
       "      <td>17</td>\n",
       "      <td>501</td>\n",
       "    </tr>\n",
       "    <tr>\n",
       "      <th>male</th>\n",
       "      <td>15</td>\n",
       "      <td>467</td>\n",
       "    </tr>\n",
       "  </tbody>\n",
       "</table>\n",
       "</div>"
      ],
      "text/plain": [
       "grade   bad  good\n",
       "gender           \n",
       "female   17   501\n",
       "male     15   467"
      ]
     },
     "execution_count": 192,
     "metadata": {},
     "output_type": "execute_result"
    }
   ],
   "source": [
    "chi_table = pd.crosstab(df_copy['gender'], df_copy['grade'])\n",
    "chi_table"
   ]
  },
  {
   "cell_type": "code",
   "execution_count": 193,
   "id": "hollywood-prerequisite",
   "metadata": {},
   "outputs": [
    {
     "data": {
      "text/plain": [
       "array([[ 17, 501],\n",
       "       [ 15, 467]], dtype=int64)"
      ]
     },
     "execution_count": 193,
     "metadata": {},
     "output_type": "execute_result"
    }
   ],
   "source": [
    "observed_values = chi_table.values\n",
    "observed_values"
   ]
  },
  {
   "cell_type": "code",
   "execution_count": 194,
   "id": "practical-vessel",
   "metadata": {},
   "outputs": [
    {
     "data": {
      "text/plain": [
       "(0.0007468356676203008,\n",
       " 0.9781978897295346,\n",
       " 1,\n",
       " array([[ 16.576, 501.424],\n",
       "        [ 15.424, 466.576]]))"
      ]
     },
     "execution_count": 194,
     "metadata": {},
     "output_type": "execute_result"
    }
   ],
   "source": [
    "val = sp.chi2_contingency(chi_table)\n",
    "val"
   ]
  },
  {
   "cell_type": "code",
   "execution_count": 195,
   "id": "utility-excitement",
   "metadata": {},
   "outputs": [
    {
     "data": {
      "text/plain": [
       "array([[ 16.576, 501.424],\n",
       "       [ 15.424, 466.576]])"
      ]
     },
     "execution_count": 195,
     "metadata": {},
     "output_type": "execute_result"
    }
   ],
   "source": [
    "expected_val = val[3] \n",
    "expected_val"
   ]
  },
  {
   "cell_type": "code",
   "execution_count": 196,
   "id": "quality-albert",
   "metadata": {},
   "outputs": [
    {
     "name": "stdout",
     "output_type": "stream",
     "text": [
      "Chi-square statistic is: 0.023245001555073096\n"
     ]
    }
   ],
   "source": [
    "chi_square = sum([(o-e)**2./e for o,e in zip(observed_values, expected_val)])\n",
    "chi_square_statistic = chi_square[0] + chi_square[1]\n",
    "print('Chi-square statistic is:', chi_square_statistic)"
   ]
  },
  {
   "cell_type": "code",
   "execution_count": 197,
   "id": "reflected-jason",
   "metadata": {},
   "outputs": [
    {
     "data": {
      "text/plain": [
       "2.705543454095404"
      ]
     },
     "execution_count": 197,
     "metadata": {},
     "output_type": "execute_result"
    }
   ],
   "source": [
    "from scipy.stats import chi2\n",
    "chi_square_critical = chi2.ppf(0.9, 1)\n",
    "chi_square_critical"
   ]
  },
  {
   "cell_type": "code",
   "execution_count": 198,
   "id": "opposed-registration",
   "metadata": {},
   "outputs": [
    {
     "name": "stdout",
     "output_type": "stream",
     "text": [
      "0.8788216799482794\n"
     ]
    }
   ],
   "source": [
    "p_value = 1 - chi2.cdf(x = chi_square_statistic, df = 1)\n",
    "print(p_value)"
   ]
  },
  {
   "cell_type": "code",
   "execution_count": 199,
   "id": "exposed-thinking",
   "metadata": {},
   "outputs": [
    {
     "name": "stdout",
     "output_type": "stream",
     "text": [
      "Reject H1, there is no relationship between the two\n",
      "Reject H1, there is no relationship between the two\n"
     ]
    }
   ],
   "source": [
    "if chi_square_statistic >= chi_square_critical:\n",
    "    print(\"Reject H0, there is a relationship between the two\")\n",
    "else:\n",
    "    print(\"Reject H1, there is no relationship between the two\")\n",
    "if p_value <= 0.05: \n",
    "    print(\"Reject H0, there is a relationship between the two\")\n",
    "else:\n",
    "    print(\"Reject H1, there is no relationship between the two\")\n"
   ]
  },
  {
   "cell_type": "code",
   "execution_count": 200,
   "id": "described-account",
   "metadata": {},
   "outputs": [
    {
     "data": {
      "image/png": "[encoded data removed]",
      "text/plain": [
       "<Figure size 432x288 with 1 Axes>"
      ]
     },
     "metadata": {
      "needs_background": "light"
     },
     "output_type": "display_data"
    }
   ],
   "source": [
    "fig1, ax1 = plt.subplots(1,1) \n",
    "#dfn, dfd = 2, 2997 #df_between, df_within\n",
    "ddof = 1\n",
    "x1 = np.linspace(chi2.ppf(0.01, ddof), chi2.ppf(0.99,ddof), 1000)\n",
    "ax1.plot(x1, chi2.pdf(x1, ddof), 'r-', lw=5, alpha=0.9, label = \"chi pdf\")\n",
    "plt.axvline(x=chi2.ppf(0.9, ddof), label='Critical value for alpha =0.1', color='g')\n",
    "#plt.axvline(x=2.9987, label='Critical value for alpha =0.1', color='g' )\n",
    "plt.axvline(x=0.023, label='Chi square statistic' )\n",
    "plt.ylim(0, 0.5)\n",
    "plt.legend();"
   ]
  },
  {
   "cell_type": "markdown",
   "id": "funky-relevance",
   "metadata": {},
   "source": [
    "##### Hypothesis 3\n",
    "An educational consultant claims that students get an avergae score of 80 or more.\n",
    "\n",
    "> H0: Students get a score of 70 or more.\n",
    "\n",
    "> H1: students get less than 70\n",
    "\n",
    "Test: One sample T-Test\n",
    "It is used when we want to compare population mean, with some value. "
   ]
  },
  {
   "cell_type": "code",
   "execution_count": 201,
   "id": "natural-naples",
   "metadata": {},
   "outputs": [
    {
     "name": "stdout",
     "output_type": "stream",
     "text": [
      "Ttest_1sampResult(statistic=-4.944665643928837, pvalue=8.942878479352004e-07)\n"
     ]
    }
   ],
   "source": [
    "statistics = sp.ttest_1samp(df_copy['overall_performance'], 70)\n",
    "print(statistics)"
   ]
  },
  {
   "cell_type": "code",
   "execution_count": 202,
   "id": "promising-driving",
   "metadata": {},
   "outputs": [
    {
     "name": "stdout",
     "output_type": "stream",
     "text": [
      "Reject H0, the consultants claim is wrong\n"
     ]
    }
   ],
   "source": [
    "if statistics[1] <= 0.05: \n",
    "    print(\"Reject H0, the consultants claim is wrong\")\n",
    "else:\n",
    "    print(\"Reject H1, the consultants claim is right\")\n"
   ]
  },
  {
   "cell_type": "code",
   "execution_count": 203,
   "id": "protected-protest",
   "metadata": {},
   "outputs": [
    {
     "data": {
      "image/png": "[encoded data removed]",
      "text/plain": [
       "<Figure size 432x288 with 1 Axes>"
      ]
     },
     "metadata": {
      "needs_background": "light"
     },
     "output_type": "display_data"
    }
   ],
   "source": [
    "fig2, ax2 = plt.subplots(1,1) \n",
    "#dfn, dfd = 2, 2997 #df_between, df_within\n",
    "df = 999\n",
    "x2 = np.linspace(t.ppf(0.01, df), t.ppf(0.99, df), 1000)\n",
    "ax2.plot(x2, t.pdf(x2, df), 'r-', lw=5, alpha=0.9, label = \"T pdf\")\n",
    "plt.axvline(x=t.ppf(0.95, df), label='Critical value for alpha =0.05', color='g')\n",
    "#plt.axvline(x=2.9987, label='Critical value for alpha =0.1', color='g' )\n",
    "plt.axvline(x=-4.94466, label='T statistic' )\n",
    "plt.legend()\n",
    "plt.plot();\n"
   ]
  },
  {
   "cell_type": "markdown",
   "id": "occupational-foster",
   "metadata": {},
   "source": [
    "##### Hypothesis 4\n",
    "The test preparation has no effect on the overall score\n",
    "\n",
    ">H0:There is no significant difference in the mean score of students who have taken test preparation and those students who have not taken any test preparation\n",
    "\n",
    ">H1: There is a difference\n",
    "\n",
    "We will perform a two sample test. \n",
    "\n",
    "##### Levene’s Test\n",
    "\n",
    "One of the assumptions for two-sample t-test is that the sample observations have homogeneity of variance. The variances of the populations from which different samples are drawn are equal.\n",
    "Student’s t-test is no longer robust when the data sets have unequal variances especially when they also have unequal sample sizes.\n",
    "\n",
    "Null Hypothesis for Levene’s test: The two samples come from populations having equal variance.\n",
    "\n",
    "Alternate Hypothesis for Levene’s test: The two samples come from populations having different variance."
   ]
  },
  {
   "cell_type": "code",
   "execution_count": 204,
   "id": "paperback-syntax",
   "metadata": {},
   "outputs": [
    {
     "data": {
      "text/html": [
       "<div>\n",
       "<style scoped>\n",
       "    .dataframe tbody tr th:only-of-type {\n",
       "        vertical-align: middle;\n",
       "    }\n",
       "\n",
       "    .dataframe tbody tr th {\n",
       "        vertical-align: top;\n",
       "    }\n",
       "\n",
       "    .dataframe thead th {\n",
       "        text-align: right;\n",
       "    }\n",
       "</style>\n",
       "<table border=\"1\" class=\"dataframe\">\n",
       "  <thead>\n",
       "    <tr style=\"text-align: right;\">\n",
       "      <th></th>\n",
       "      <th>gender</th>\n",
       "      <th>race/ethnicity</th>\n",
       "      <th>parental level of education</th>\n",
       "      <th>lunch</th>\n",
       "      <th>test preparation course</th>\n",
       "      <th>math score</th>\n",
       "      <th>reading score</th>\n",
       "      <th>writing score</th>\n",
       "      <th>overall_performance</th>\n",
       "      <th>grade</th>\n",
       "    </tr>\n",
       "  </thead>\n",
       "  <tbody>\n",
       "    <tr>\n",
       "      <th>811</th>\n",
       "      <td>male</td>\n",
       "      <td>group A</td>\n",
       "      <td>high school</td>\n",
       "      <td>free/reduced</td>\n",
       "      <td>none</td>\n",
       "      <td>45</td>\n",
       "      <td>47</td>\n",
       "      <td>49</td>\n",
       "      <td>47.000000</td>\n",
       "      <td>good</td>\n",
       "    </tr>\n",
       "    <tr>\n",
       "      <th>145</th>\n",
       "      <td>female</td>\n",
       "      <td>group C</td>\n",
       "      <td>some college</td>\n",
       "      <td>free/reduced</td>\n",
       "      <td>none</td>\n",
       "      <td>22</td>\n",
       "      <td>39</td>\n",
       "      <td>33</td>\n",
       "      <td>31.333333</td>\n",
       "      <td>bad</td>\n",
       "    </tr>\n",
       "    <tr>\n",
       "      <th>672</th>\n",
       "      <td>female</td>\n",
       "      <td>group C</td>\n",
       "      <td>some college</td>\n",
       "      <td>standard</td>\n",
       "      <td>none</td>\n",
       "      <td>69</td>\n",
       "      <td>78</td>\n",
       "      <td>76</td>\n",
       "      <td>74.333333</td>\n",
       "      <td>good</td>\n",
       "    </tr>\n",
       "    <tr>\n",
       "      <th>506</th>\n",
       "      <td>male</td>\n",
       "      <td>group A</td>\n",
       "      <td>high school</td>\n",
       "      <td>standard</td>\n",
       "      <td>none</td>\n",
       "      <td>68</td>\n",
       "      <td>70</td>\n",
       "      <td>66</td>\n",
       "      <td>68.000000</td>\n",
       "      <td>good</td>\n",
       "    </tr>\n",
       "    <tr>\n",
       "      <th>555</th>\n",
       "      <td>female</td>\n",
       "      <td>group C</td>\n",
       "      <td>some college</td>\n",
       "      <td>free/reduced</td>\n",
       "      <td>none</td>\n",
       "      <td>32</td>\n",
       "      <td>39</td>\n",
       "      <td>33</td>\n",
       "      <td>34.666667</td>\n",
       "      <td>bad</td>\n",
       "    </tr>\n",
       "  </tbody>\n",
       "</table>\n",
       "</div>"
      ],
      "text/plain": [
       "     gender race/ethnicity parental level of education         lunch  \\\n",
       "811    male        group A                 high school  free/reduced   \n",
       "145  female        group C                some college  free/reduced   \n",
       "672  female        group C                some college      standard   \n",
       "506    male        group A                 high school      standard   \n",
       "555  female        group C                some college  free/reduced   \n",
       "\n",
       "    test preparation course  math score  reading score  writing score  \\\n",
       "811                    none          45             47             49   \n",
       "145                    none          22             39             33   \n",
       "672                    none          69             78             76   \n",
       "506                    none          68             70             66   \n",
       "555                    none          32             39             33   \n",
       "\n",
       "     overall_performance grade  \n",
       "811            47.000000  good  \n",
       "145            31.333333   bad  \n",
       "672            74.333333  good  \n",
       "506            68.000000  good  \n",
       "555            34.666667   bad  "
      ]
     },
     "execution_count": 204,
     "metadata": {},
     "output_type": "execute_result"
    }
   ],
   "source": [
    "df_copy.sample(5)"
   ]
  },
  {
   "cell_type": "code",
   "execution_count": 208,
   "id": "worthy-journey",
   "metadata": {},
   "outputs": [
    {
     "data": {
      "text/plain": [
       "LeveneResult(statistic=2.8142352258996643, pvalue=0.09374453284949794)"
      ]
     },
     "execution_count": 208,
     "metadata": {},
     "output_type": "execute_result"
    }
   ],
   "source": [
    "sp.levene(df_copy['overall_performance'][df_copy['test preparation course'] == 'completed'], df_copy['overall_performance'][df_copy['test preparation course'] == 'none'], center = 'mean')"
   ]
  },
  {
   "cell_type": "markdown",
   "id": "finished-irish",
   "metadata": {},
   "source": [
    "Here the p-value is greater than alpha (0.05), therefore we can not reject the null hypothesis. \n",
    "Hence,the two samples come from populations having equal variance, and this necessary condition to perform the two sample t test is fulfilled."
   ]
  },
  {
   "cell_type": "code",
   "execution_count": 209,
   "id": "beginning-theater",
   "metadata": {},
   "outputs": [
    {
     "data": {
      "text/plain": [
       "Ttest_indResult(statistic=8.390944443482592, pvalue=1.633780203592351e-16)"
      ]
     },
     "execution_count": 209,
     "metadata": {},
     "output_type": "execute_result"
    }
   ],
   "source": [
    "sp.ttest_ind(df_copy['overall_performance'][df_copy['test preparation course'] == 'completed'], df_copy['overall_performance'][df_copy['test preparation course'] == 'none'])"
   ]
  },
  {
   "cell_type": "code",
   "execution_count": 212,
   "id": "micro-recycling",
   "metadata": {},
   "outputs": [
    {
     "data": {
      "text/plain": [
       "358"
      ]
     },
     "execution_count": 212,
     "metadata": {},
     "output_type": "execute_result"
    }
   ],
   "source": [
    "df_copy['overall_performance'][df_copy['test preparation course'] == 'completed'].count()"
   ]
  },
  {
   "cell_type": "code",
   "execution_count": 213,
   "id": "pressed-architect",
   "metadata": {},
   "outputs": [
    {
     "data": {
      "text/plain": [
       "642"
      ]
     },
     "execution_count": 213,
     "metadata": {},
     "output_type": "execute_result"
    }
   ],
   "source": [
    "df_copy['overall_performance'][df_copy['test preparation course'] == 'none'].count()"
   ]
  },
  {
   "cell_type": "code",
   "execution_count": 214,
   "id": "appointed-horse",
   "metadata": {},
   "outputs": [],
   "source": [
    "dof = 357 #smaller sample - 1"
   ]
  },
  {
   "cell_type": "code",
   "execution_count": 215,
   "id": "accessory-russia",
   "metadata": {},
   "outputs": [
    {
     "data": {
      "image/png": "[encoded data removed]",
      "text/plain": [
       "<Figure size 432x288 with 1 Axes>"
      ]
     },
     "metadata": {
      "needs_background": "light"
     },
     "output_type": "display_data"
    }
   ],
   "source": [
    "fig3, ax3 = plt.subplots(1,1) \n",
    "#dfn, dfd = 2, 2997 #df_between, df_within\n",
    "df = 357\n",
    "x3 = np.linspace(t.ppf(0.01, df), t.ppf(0.99, df), 1000)\n",
    "ax3.plot(x3, t.pdf(x3, df), 'r-', lw=5, alpha=0.9, label = \"T pdf\")\n",
    "plt.axvline(x=t.ppf(0.95, df), label='Critical value for alpha =0.05', color='g')\n",
    "#plt.axvline(x=2.9987, label='Critical value for alpha =0.1', color='g' )\n",
    "plt.axvline(x=8.3909, label='T statistic' )\n",
    "plt.legend()\n",
    "plt.plot();\n"
   ]
  },
  {
   "cell_type": "markdown",
   "id": "indie-seven",
   "metadata": {},
   "source": [
    "Here, since the p value is less than alpha(0.05) and also the statistic is beyond the critical value. We reject the null hypothesis.\n",
    "The test preparation has an effect on the scores of the students."
   ]
  },
  {
   "cell_type": "code",
   "execution_count": null,
   "id": "perceived-blake",
   "metadata": {},
   "outputs": [],
   "source": []
  }
 ],
 "metadata": {
  "kernelspec": {
   "display_name": "Python 3",
   "language": "python",
   "name": "python3"
  },
  "language_info": {
   "codemirror_mode": {
    "name": "ipython",
    "version": 3
   },
   "file_extension": ".py",
   "mimetype": "text/x-python",
   "name": "python",
   "nbconvert_exporter": "python",
   "pygments_lexer": "ipython3",
   "version": "3.7.4"
  }
 },
 "nbformat": 4,
 "nbformat_minor": 5
}
